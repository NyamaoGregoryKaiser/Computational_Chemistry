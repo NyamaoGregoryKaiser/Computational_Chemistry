{
 "cells": [
  {
   "cell_type": "markdown",
   "id": "6765721f-4f58-4f28-8701-a7d98413258b",
   "metadata": {},
   "source": [
    "### Ising model 2D\n",
    "Simulation setup"
   ]
  },
  {
   "cell_type": "code",
   "execution_count": null,
   "id": "e6545061-aa3f-4ffe-9ce1-cd5fe5bebb19",
   "metadata": {},
   "outputs": [],
   "source": [
    "import numpy as np\n",
    "import matplotlib.pyplot as plt\n",
    "from IPython.display import display, clear_output\n",
    "import time  \n",
    "\n",
    "# Domain size\n",
    "L = 50\n",
    "\n",
    "# Initial spins (matrix with random values of -1 or 1)\n",
    "S = np.random.randint(0, 2, (L, L)) * 2 - 1\n",
    "\n",
    "# Parameters\n",
    "J = 1.0\n",
    "k = 1.0\n",
    "T = 1.0\n",
    "h = 0.15\n",
    "\n",
    "# Number of steps\n",
    "NStp = 50001"
   ]
  },
  {
   "cell_type": "markdown",
   "id": "140e10ad-eb8b-4d1d-b1cd-32e28754fe6b",
   "metadata": {},
   "source": [
    "create plot object"
   ]
  },
  {
   "cell_type": "markdown",
   "id": "b6ffb4ba-dead-43b6-93c4-002b6fc1c6a5",
   "metadata": {},
   "source": [
    "Iterations"
   ]
  },
  {
   "cell_type": "code",
   "execution_count": null,
   "id": "fc9e7836-a4d2-4669-90c2-051517790f7b",
   "metadata": {},
   "outputs": [],
   "source": [
    "# Initialization before the loop\n",
    "fig, ax = plt.subplots(figsize=(5, 5))\n",
    "ax.set_aspect('equal', adjustable='box')\n",
    "ax.set_xlim(0, L)\n",
    "ax.set_ylim(0, L)\n",
    "\n",
    "\n",
    "\n",
    "\n",
    "# Simulation loop\n",
    "# for iter in range(1, NStp + 1):\n",
    "for iter in range(201):\n",
    "\n",
    "    # Randomly pick a site on the 2D grid (within 2 to L-1)\n",
    "    idx = np.random.randint( ,  )\n",
    "    jdx = np.random.randint( ,  )\n",
    "\n",
    "    # Calculate the energy at the selected site\n",
    "    Ecrt = -J * S[ , ] * (S[ ,  ] + S[ ,  ] + \\\n",
    "                               S[ ,  ] + S[ ,  ]) - S[ ,  ] * h\n",
    "\n",
    "    # Trial flip\n",
    "    Strl = -S[idx, jdx]\n",
    "\n",
    "    # Calculate the energy after flip\n",
    "    Etrl = -J * Strl * (S[ ,  ] + S[ ,  ] + \\\n",
    "                        S[ ,  ] + S[ ,  ]) - Strl * h\n",
    "\n",
    "    # Calculate the energy difference\n",
    "    dE = Etrl - Ecrt\n",
    "\n",
    "    # Accept or reject the flip\n",
    "    if dE <= 0.0:\n",
    "        S[idx, jdx] = Strl\n",
    "    else:\n",
    "        prb = np.exp( / ( * ))\n",
    "        r = np.random.rand()\n",
    "        if r < prb:\n",
    "            S[idx, jdx] = Strl\n",
    "\n",
    "    # Impose boundary conditions\n",
    "    if idx == 1:\n",
    "        S[ , jdx] = S[ , jdx]\n",
    "    if idx == L-2:\n",
    "        S[ ,  ] = S[ ,  ]\n",
    "    if jdx == 1:\n",
    "        S[ , ] = S[ , ]\n",
    "    if jdx == L-2:\n",
    "        S[ , ] = S[, ]\n",
    "\n",
    "    # Visualization every 100 iterations\n",
    "    if iter % 100 == 0:\n",
    "        plt.pcolor(S, cmap='coolwarm', edgecolors='k', linewidth=0.1)\n",
    "        # plt.show()\n",
    "\n",
    "        # Animaiton part (dosn't change)\n",
    "        clear_output(wait=True) # Clear output for dynamic display\n",
    "        display(fig)            # Reset display\n",
    "        fig.clear()             # Prevent overlapping and layered plots\n",
    "        time.sleep(0.0002)         # Sleep for half a second to slow down the animation\n",
    "\n",
    "        \n",
    "        \n",
    "        # Calculate magnetism\n",
    "        M = np.sum(S) / (L**2)\n",
    "\n",
    "        # Calculate total energy\n",
    "        E = np.zeros((L, L))\n",
    "        for i in range(L):\n",
    "            for j in range(L):\n",
    "                E[i, j] = -J * S[i, j] * (S[(i+1) % L, j] + S[(i-1) % L, j] + \\\n",
    "                                          S[i, (j+1) % L] + S[i, (j-1) % L]) - h * S[i, j]\n",
    "\n",
    "        E_mean = 0.5 * np.sum(E) / (L**2)\n",
    "\n",
    "\n"
   ]
  },
  {
   "cell_type": "code",
   "execution_count": null,
   "id": "a9ebf0fc-e7aa-45ee-ad5f-a099b5d70c06",
   "metadata": {},
   "outputs": [],
   "source": []
  }
 ],
 "metadata": {
  "kernelspec": {
   "display_name": "Python [conda env:base] *",
   "language": "python",
   "name": "conda-base-py"
  },
  "language_info": {
   "codemirror_mode": {
    "name": "ipython",
    "version": 3
   },
   "file_extension": ".py",
   "mimetype": "text/x-python",
   "name": "python",
   "nbconvert_exporter": "python",
   "pygments_lexer": "ipython3",
   "version": "3.12.2"
  }
 },
 "nbformat": 4,
 "nbformat_minor": 5
}
