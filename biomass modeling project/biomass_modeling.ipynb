# biomass_modeling.ipynb

import numpy as np
import matplotlib.pyplot as plt
from biomass_derivatives import biomass_derivatives
from scipy.integrate import solve_ivp

# Function to solve the system of ODEs over time
def solve_biomass_system(t_span, initial_values):
    # Define a wrapper function for the derivatives needed by solve_ivp
    def derivatives_wrapper(t, values):
        return biomass_derivatives(t, values)
    
    # Solve the system using solve_ivp
    solution = solve_ivp(derivatives_wrapper, t_span, initial_values, dense_output=True)
    
    return solution

# Initial conditions
x0 = 0
y0 = 0
z0 = 809601  # Initial biomass for living trees in thousands of tons
initial_values = [x0, y0, z0]

# Time span (in decades) - simulate for 100 decades (1000 years)
t_span = [0, 100]

# Solve the system
solution = solve_biomass_system(t_span, initial_values)

# Get the solution for time points
t_values = np.linspace(t_span[0], t_span[1], 500)
x_values, y_values, z_values = solution.sol(t_values)

# Plot the results
plt.figure(figsize=(10, 6))
plt.plot(t_values, x_values, label='Humus Biomass (x)', color='brown')
plt.plot(t_values, y_values, label='Dead Tree Biomass (y)', color='gray')
plt.plot(t_values, z_values, label='Living Tree Biomass (z)', color='green')
plt.xlabel('Time (decades)')
plt.ylabel('Biomass (thousands of tons)')
plt.title('Biomass Dynamics in a Forest Ecosystem')
plt.legend()
plt.grid(True)
plt.show()

# Optional: Save the plot
# plt.savefig('biomass_dynamics_plot.png')
