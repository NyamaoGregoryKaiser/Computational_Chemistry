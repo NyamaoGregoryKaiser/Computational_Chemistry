{
 "cells": [
  {
   "cell_type": "markdown",
   "id": "e6104484-8cc7-425b-a415-03022116803b",
   "metadata": {},
   "source": [
    "### Molecular dynamics coding practice\n",
    "Set up material parameters"
   ]
  },
  {
   "cell_type": "code",
   "execution_count": null,
   "id": "ba79e47d-ab55-4163-b6f7-1e721e8d9250",
   "metadata": {},
   "outputs": [],
   "source": [
    "import numpy as np\n",
    "import matplotlib.pyplot as plt\n",
    "from IPython.display import display, clear_output\n",
    "import time  \n",
    "\n",
    "# Material parameters\n",
    "ms = 0.5       # Mass\n",
    "rm = 0.1       # Reference radius\n",
    "eps = 0.25     # Strength\n",
    "epsW = 0.1"
   ]
  },
  {
   "cell_type": "markdown",
   "id": "e7ab97b8-27d8-4549-ab52-ef020283d4af",
   "metadata": {},
   "source": [
    "Set up simulation conditions"
   ]
  },
  {
   "cell_type": "code",
   "execution_count": null,
   "id": "a5f5fe08-3bd2-4758-9101-f12d62a35d9c",
   "metadata": {},
   "outputs": [],
   "source": [
    "# Simulation parameters\n",
    "Nstp = 100001   # Number of steps\n",
    "dt = 0.00005    # Time step size\n",
    "npart = 64         # Number of atoms\n",
    "\n",
    "# Domain size\n",
    "Lx = 1.0        # Domain size in x direction\n",
    "Ly = 1.0        # Domain size in y direction\n",
    "rcut = 2.5 * rm  # Cutoff radius"
   ]
  },
  {
   "cell_type": "markdown",
   "id": "b92eff45-d8db-4744-b8cc-70fb231072c9",
   "metadata": {},
   "source": [
    " Set up arrays for storing data"
   ]
  },
  {
   "cell_type": "code",
   "execution_count": null,
   "id": "778551a3-c6a2-467c-9c1e-a5cba2a04888",
   "metadata": {},
   "outputs": [],
   "source": [
    "\n",
    "# Initializing arrays\n",
    "X_Y = np.zeros((npart, 2))    # Position array (npart x 2)\n",
    "Vel = np.zeros((npart, 2))    # Velocity array (npart x 2)\n",
    "Acc = np.zeros((npart, 2))    # Acceleration array (npart x 2)\n",
    "dst = np.zeros((npart, npart))   # Inter-atom distance matrix (npart x npart)\n",
    "\n",
    "dX = np.zeros((npart, npart))    # Delta_X for direction (npart x npart)\n",
    "dY = np.zeros((npart, npart))    # Delta_Y for direction (npart x npart)\n",
    "frcX = np.zeros((npart, npart))  # Force in the x-direction (npart x npart)\n",
    "frcY = np.zeros((npart, npart))  # Force in the y-direction (npart x npart)\n",
    "\n",
    "frwX = np.zeros(npart)        # Force in the x-direction (npart x 1)\n",
    "frwY = np.zeros(npart)        # Force in the y-direction (npart x 1)\n",
    "\n",
    "# Initialize velocity with random values between -0.25 and 0.25\n",
    "Vel = (np.random.rand(npart, 2) - 0.5) * 0.5\n",
    "\n",
    "# Copy acceleration to Acc_old\n",
    "Acc_old = np.copy(Acc)"
   ]
  },
  {
   "cell_type": "markdown",
   "id": "745b8871-f286-4793-8f6c-32f177137971",
   "metadata": {},
   "source": [
    "Initial condition for atom positions"
   ]
  },
  {
   "cell_type": "code",
   "execution_count": null,
   "id": "85e36164-f677-424f-b1e7-2c9b713eeaea",
   "metadata": {},
   "outputs": [],
   "source": [
    "for i in range(1, npart + 1):\n",
    "    rr = np.floor(i / 9)\n",
    "    cl = i % 9\n",
    "\n",
    "    X_Y[i - 1, 0] = 0.1 + (cl - 1) * 0.1122 + 0.015\n",
    "    X_Y[i - 1, 1] = 0.1 + rr * 0.1122 + 0.015"
   ]
  },
  {
   "cell_type": "markdown",
   "id": "1da19d96-7b61-4abb-b74d-a46fda69994e",
   "metadata": {},
   "source": [
    "time iterations"
   ]
  },
  {
   "cell_type": "code",
   "execution_count": null,
   "id": "082950d0-6cc7-4421-ae40-a3e0f91d0f5f",
   "metadata": {},
   "outputs": [],
   "source": [
    "# Initialization\n",
    "tm = 0\n",
    "cnt = 1\n",
    "\n",
    "# Arrays initialization\n",
    "hit = np.zeros(npart)\n",
    "fw_up = np.zeros(npart)\n",
    "\n",
    "\n",
    "# Initialization before the loop\n",
    "fig, ax = plt.subplots(figsize=(5, 5))\n",
    "ax.set_aspect('equal', adjustable='box')\n",
    "ax.set_xlim(0, Lx)\n",
    "ax.set_ylim(0, 1)\n",
    "\n",
    "PY = []\n",
    "TM = []\n",
    "\n",
    "# for iter in range(1, Nstp * 2 + 1):\n",
    "for iter in range(2501):    \n",
    "    \n",
    "    # Update positions\n",
    "    X_Y[:, 0:2] = X_Y[:, 0:2] + Vel[:, 0:2] * dt + 0.5 * Acc[:, 0:2] * dt**2\n",
    "\n",
    "    # Closed boundary conditions\n",
    "    # add boundary conditions for atoms hitting walls (4 sides).\n",
    "    X_Y[:, 0] = \n",
    "    X_Y[:, 0] = \n",
    "    X_Y[:, 1] = \n",
    "    X_Y[:, 1] = \n",
    "\n",
    "    # Calculate inter-atom distance\n",
    "    for i in range(npart - 1):\n",
    "        for j in range(i + 1, npart):\n",
    "            dx_c = \n",
    "            dy_c = \n",
    "\n",
    "            dX[i, j] = dx_c\n",
    "            dY[i, j] = dy_c\n",
    "            dX[j, i] = -dx_c\n",
    "            dY[j, i] = -dy_c\n",
    "\n",
    "            dst[i, j] = np.sqrt(dX[i, j]**2 + dY[i, j]**2)\n",
    "            dst[j, i] = dst[i, j]\n",
    "\n",
    "    # Force from wall\n",
    "    frwX.fill(0)\n",
    "    frwY.fill(0)\n",
    "    hit.fill(0)\n",
    "\n",
    "    for i in range(npart):\n",
    "        # calculate the distance to the west and east walls\n",
    "        dxw = \n",
    "        \n",
    "        # calculate the distance to the south and north walls \n",
    "        dyw = \n",
    "\n",
    "        ds = abs(dxw)\n",
    "        if 0 < ds < rcut:\n",
    "            dUdr = \n",
    "            frwX[i] = dxw / ds * dUdr\n",
    "\n",
    "        ds = abs(dyw)\n",
    "        if 0 < ds < rcut:\n",
    "            dUdr = \n",
    "            frwY[i] = dyw / ds * dUdr\n",
    "            if abs(dyw) == abs(dyw - Ly):\n",
    "                hit[i] = 1\n",
    "\n",
    "    # Calculate forces\n",
    "    frcX.fill(0)\n",
    "    frcY.fill(0)\n",
    "    for i in range(npart - 1):\n",
    "        for j in range(i + 1, npart):\n",
    "            if 0 < dst[i, j] < rcut:\n",
    "                dUdr = 24 * eps / rm * (2 * (rm / dst[i, j])**13 - (rm / dst[i, j])**7)\n",
    "                frcX[i, j] = dX[i, j] / dst[i, j] * dUdr\n",
    "                frcY[i, j] = dY[i, j] / dst[i, j] * dUdr\n",
    "                frcX[j, i] = -frcX[i, j]\n",
    "                frcY[j, i] = -frcY[i, j]\n",
    "\n",
    "    # Update acceleration\n",
    "    for i in range(npart):\n",
    "        Acc[i, 0] = np.sum(frcX[i, :]) / ms + frwX[i] / ms\n",
    "        Acc[i, 1] = np.sum(frcY[i, :]) / ms + frwY[i] / ms\n",
    "\n",
    "    # Update velocity\n",
    "    Vel[:, 0:2] = Vel[:, 0:2] + 0.5 * (Acc_old[:, 0:2] + Acc[:, 0:2]) * dt\n",
    "\n",
    "    # Update old acceleration\n",
    "    Acc_old[:, 0:2] = Acc[:, 0:2]\n",
    "\n",
    "    # Elapsed time\n",
    "    tm += dt\n",
    "\n",
    "    # Adjust `Ly` over time\n",
    "    if iter < Nstp:\n",
    "        Ly = 1.0 - 0.7 * iter / Nstp\n",
    "    else:\n",
    "        Ly = 0.3 + 0.7 * (iter - Nstp) / Nstp\n",
    "\n",
    "    # Visualization\n",
    "    if iter % 250 == 0:\n",
    "\n",
    "        plt.scatter(X_Y[:, 0], X_Y[:, 1], c='b')\n",
    "        plt.plot([0, Lx], [Ly, Ly], 'k-', linewidth=5)\n",
    "        plt.plot([0.5, 0.5], [1, Ly], 'k-', linewidth=10)\n",
    "        \n",
    "\n",
    "              \n",
    "        for i in range(npart):\n",
    "            fw_up[i] = -frwY[i] if hit[i] == 1 else 0\n",
    "        PY.append(fw_up)\n",
    "        TM.append(tm)\n",
    "        \n",
    "        # Animaiton part (dosn't change)\n",
    "        clear_output(wait=True) # Clear output for dynamic display\n",
    "        display(fig)            # Reset display\n",
    "        fig.clear()             # Prevent overlapping and layered plots\n",
    "        time.sleep(0.0002)         # Sleep for half a second to slow down the animation\n",
    "            \n",
    "        cnt += 1\n"
   ]
  },
  {
   "cell_type": "code",
   "execution_count": null,
   "id": "d7dc1d30-0794-4553-8ed5-7fe8a73b0fb2",
   "metadata": {},
   "outputs": [],
   "source": [
    "plt.plot(TM,PY)"
   ]
  }
 ],
 "metadata": {
  "kernelspec": {
   "display_name": "Python [conda env:base] *",
   "language": "python",
   "name": "conda-base-py"
  },
  "language_info": {
   "codemirror_mode": {
    "name": "ipython",
    "version": 3
   },
   "file_extension": ".py",
   "mimetype": "text/x-python",
   "name": "python",
   "nbconvert_exporter": "python",
   "pygments_lexer": "ipython3",
   "version": "3.12.2"
  }
 },
 "nbformat": 4,
 "nbformat_minor": 5
}
